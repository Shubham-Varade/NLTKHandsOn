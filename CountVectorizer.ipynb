{
 "cells": [
  {
   "cell_type": "code",
   "execution_count": 1,
   "metadata": {},
   "outputs": [],
   "source": [
    "#Task 1 Simple Text Classification\n",
    "import nltk\n",
    "def gender_feat(word):\n",
    "    return{'last_letter':word[-1]}"
   ]
  },
  {
   "cell_type": "code",
   "execution_count": 2,
   "metadata": {},
   "outputs": [
    {
     "data": {
      "text/plain": [
       "{'last_letter': 'm'}"
      ]
     },
     "execution_count": 2,
     "metadata": {},
     "output_type": "execute_result"
    }
   ],
   "source": [
    "gender_feat(\"Shubham\")"
   ]
  },
  {
   "cell_type": "code",
   "execution_count": 3,
   "metadata": {},
   "outputs": [
    {
     "name": "stdout",
     "output_type": "stream",
     "text": [
      "Number of names in the list: 7944\n"
     ]
    }
   ],
   "source": [
    "from nltk.corpus import names\n",
    "#names.words() -- to see all the names in the names corpus\n",
    "print(\"Number of names in the list:\",len(names.words()))\n",
    "labeled_names=([(name,'male') for name in names.words('male.txt')] + [(name, 'female')  for name in names.words('female.txt')])"
   ]
  },
  {
   "cell_type": "code",
   "execution_count": 4,
   "metadata": {},
   "outputs": [],
   "source": [
    "#Training our model with half of the corpus and testing accuracy against its other half \n",
    "import random\n",
    "random.shuffle(labeled_names)\n",
    "featuresets=[(gender_feat(n),gender) for (n,gender) in labeled_names]\n",
    "train_set, test_set = featuresets[:5000], featuresets[5000:]"
   ]
  },
  {
   "cell_type": "code",
   "execution_count": 5,
   "metadata": {},
   "outputs": [
    {
     "data": {
      "text/plain": [
       "'male'"
      ]
     },
     "execution_count": 5,
     "metadata": {},
     "output_type": "execute_result"
    }
   ],
   "source": [
    "#Predicting Gender from name\n",
    "import nltk\n",
    "classifier=nltk.NaiveBayesClassifier.train(train_set)\n",
    "classifier.classify(gender_feat('Shubham'))"
   ]
  },
  {
   "cell_type": "code",
   "execution_count": 6,
   "metadata": {},
   "outputs": [
    {
     "name": "stdout",
     "output_type": "stream",
     "text": [
      "0.759171195652174\n"
     ]
    }
   ],
   "source": [
    "#Accuracy of model against itself\n",
    "print(nltk.classify.accuracy(classifier,test_set))"
   ]
  },
  {
   "cell_type": "code",
   "execution_count": 7,
   "metadata": {},
   "outputs": [
    {
     "data": {
      "text/plain": [
       "CountVectorizer(binary=True)"
      ]
     },
     "execution_count": 7,
     "metadata": {},
     "output_type": "execute_result"
    }
   ],
   "source": [
    "#Task 2-Using CountVectorizer (tokenize a collection of text documents and build a vocabulary of known word)\n",
    "#We can also encode new documents using that vocabulary\n",
    "from sklearn.feature_extraction.text import CountVectorizer\n",
    "vect=CountVectorizer(binary=True)\n",
    "corpus=[\"Tessaract is good optical character recognition engine \", \"optical character recognition is significant\"]\n",
    "vect.fit(corpus)\n",
    "\n"
   ]
  },
  {
   "cell_type": "code",
   "execution_count": 17,
   "metadata": {},
   "outputs": [
    {
     "name": "stdout",
     "output_type": "stream",
     "text": [
      "0:character\n",
      "1:engine\n",
      "2:good\n",
      "3:is\n",
      "4:optical\n",
      "5:recognition\n",
      "6:significant\n",
      "7:tessaract\n"
     ]
    }
   ],
   "source": [
    "#Tokenizing and creating a vocabularly using CountVectorizer\n",
    "vocab=vect.vocabulary_\n",
    "for key in sorted(vocab.keys()):\n",
    "    print(\"{}:{}\".format(vocab[key], key))"
   ]
  },
  {
   "cell_type": "code",
   "execution_count": 8,
   "metadata": {},
   "outputs": [
    {
     "name": "stdout",
     "output_type": "stream",
     "text": [
      "[[0 0 1 1 1 0 0 0]]\n"
     ]
    }
   ],
   "source": [
    "#Here we take another sentence and check it with our vocabulary\n",
    "#Each position of number 0/1 corresponds to the key value in our vocabulary\n",
    "#So, in this case, the first 0 represents that the absence of the word \"character\" in the sentence\n",
    "#The third 1 in the output represent presence of the word \"good\"in the sentence\n",
    "# 8 words in vocabulary thats why 8 values in output with each being either 0 for absence or 1 for presence of the word \n",
    "#in the vocab at the particular key value\n",
    "print(vect.transform([\"This is a good optical illusion\"]).toarray())"
   ]
  },
  {
   "cell_type": "code",
   "execution_count": 24,
   "metadata": {},
   "outputs": [
    {
     "name": "stdout",
     "output_type": "stream",
     "text": [
      "[[1.]]\n",
      "['thi', 'is', 'just', 'a', 'sampl', 'text']\n",
      "[[0. 0. 0. 0. 0. 0. 0. 0. 0. 0. 0.]\n",
      " [0. 1. 0. 0. 0. 0. 0. 0. 1. 0. 0.]\n",
      " [0. 0. 0. 0. 0. 0. 0. 0. 0. 0. 0.]\n",
      " [0. 0. 0. 0. 0. 0. 0. 0. 0. 0. 0.]\n",
      " [0. 0. 0. 0. 0. 0. 0. 0. 0. 0. 0.]\n",
      " [0. 0. 0. 0. 0. 0. 0. 0. 0. 0. 0.]]\n"
     ]
    }
   ],
   "source": [
    "from nltk.stem import LancasterStemmer\n",
    "from sklearn.metrics.pairwise import cosine_similarity\n",
    "cossim = cosine_similarity(vect.transform([\"This is just a sample text\"]).toarray(), vect.transform([\"This is just a sample text but very useful\"]).toarray())\n",
    "print(cossim)\n",
    "stemmer=LancasterStemmer()\n",
    "\n",
    "sent1= \"This is just a sample text\"\n",
    "sent2= \"This is not just a sample text. It is very important\"\n",
    "sen1=\"\"\n",
    "sen2=\"\"\n",
    "sen1=[stemmer.stem(word) for word in sent1.split(\" \")]\n",
    "sen2=[stemmer.stem(word) for word in sent2.split(\" \")]\n",
    "\n",
    "print(sen1)\n",
    "cossim = cosine_similarity(vect.transform(sen1),vect.transform(sen2))\n",
    "print(cossim)"
   ]
  },
  {
   "cell_type": "code",
   "execution_count": null,
   "metadata": {},
   "outputs": [],
   "source": []
  }
 ],
 "metadata": {
  "kernelspec": {
   "display_name": "Python 3",
   "language": "python",
   "name": "python3"
  },
  "language_info": {
   "codemirror_mode": {
    "name": "ipython",
    "version": 3
   },
   "file_extension": ".py",
   "mimetype": "text/x-python",
   "name": "python",
   "nbconvert_exporter": "python",
   "pygments_lexer": "ipython3",
   "version": "3.8.3"
  }
 },
 "nbformat": 4,
 "nbformat_minor": 4
}
